{
  "nbformat": 4,
  "nbformat_minor": 0,
  "metadata": {
    "colab": {
      "provenance": [],
      "toc_visible": true,
      "authorship_tag": "ABX9TyPdowx9fRQkD2BCdeXAtt0M",
      "include_colab_link": true
    },
    "kernelspec": {
      "name": "python3",
      "display_name": "Python 3"
    },
    "language_info": {
      "name": "python"
    }
  },
  "cells": [
    {
      "cell_type": "markdown",
      "metadata": {
        "id": "view-in-github",
        "colab_type": "text"
      },
      "source": [
        "<a href=\"https://colab.research.google.com/github/ugiriwabo/Aline-Consolee-2409000881/blob/main/12_02_2025.ipynb\" target=\"_parent\"><img src=\"https://colab.research.google.com/assets/colab-badge.svg\" alt=\"Open In Colab\"/></a>"
      ]
    },
    {
      "cell_type": "markdown",
      "source": [
        "AES encryption in Python"
      ],
      "metadata": {
        "id": "1_n_xi8ODXGx"
      }
    },
    {
      "cell_type": "code",
      "source": [
        "#step 1: Install required library\n",
        "\n",
        "!pip install cryptography\n",
        "\n",
        "\n",
        "from cryptography.fernet import Fernet\n",
        "\n",
        "#Generate the key\n",
        "\n",
        "key = Fernet.generate_key()\n",
        "cipher_suite = Fernet(key)\n",
        "\n",
        "#message to encrypt\n",
        "\n",
        "message = b\"sensitive Data : user's password\"\n",
        "\n",
        "#encry\n",
        "encrypted_message = cipher_suite.encrypt(message)\n",
        "print(\"Encrypted message\", encrypted_message)\n",
        "\n",
        "#dencry\n",
        "decrypted_message = cipher_suite.decrypt(encrypted_message)\n",
        "print(\"Decrypted message\", decrypted_message)\n"
      ],
      "metadata": {
        "colab": {
          "base_uri": "https://localhost:8080/"
        },
        "id": "-Pf433CyDe2n",
        "outputId": "0c749c6b-69de-420a-f2bf-c4b08a5c0e80"
      },
      "execution_count": null,
      "outputs": [
        {
          "output_type": "stream",
          "name": "stdout",
          "text": [
            "Requirement already satisfied: cryptography in /usr/local/lib/python3.11/dist-packages (43.0.3)\n",
            "Requirement already satisfied: cffi>=1.12 in /usr/local/lib/python3.11/dist-packages (from cryptography) (1.17.1)\n",
            "Requirement already satisfied: pycparser in /usr/local/lib/python3.11/dist-packages (from cffi>=1.12->cryptography) (2.22)\n",
            "Encrypted message b'gAAAAABnrOCRIsFrjVM1uM0wltwh1dyduXOOAm95VzT4AUPUodmPe9dilhEpZYMFmVx49fhmU9PyIgtMLos_z_qMlFqNC43H-Qtr1YLgQs9cqSavvLQxtUklpgfYK2wq0qKOLTs6f6X4'\n",
            "Decrypted message b\"sensitive Data : user's password\"\n"
          ]
        }
      ]
    },
    {
      "cell_type": "markdown",
      "source": [
        "# New Section"
      ],
      "metadata": {
        "id": "AmnkTbu7UOvb"
      }
    }
  ]
}